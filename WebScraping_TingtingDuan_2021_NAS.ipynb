{
 "cells": [
  {
   "cell_type": "markdown",
   "metadata": {},
   "source": [
    "## Webscraping with Selenium and Xpath, From Start to Finish\n",
    "\n",
    "Copyright 2021 Tingting Duan https://github.com/Tingting0618\n",
    "\n",
    "---\n",
    "#### Agenda:\n",
    "Section 1. The problem/scenario<br>\n",
    "Section 2. The solution<br>\n",
    "Section 3. Code breakdown<br>\n",
    "Section 4. References<br>\n",
    "\n",
    "#### Also Note:\n",
    "Please check a website's robots.txt file before scraping and please respect all websites' scraping rules (aka terms and conditions). Happy ethical hacking! \n",
    "\n",
    "---"
   ]
  },
  {
   "cell_type": "markdown",
   "metadata": {},
   "source": [
    "### Section 1. The problem/scenario: \n",
    "\n",
    "- Assuming we are working for a hotel management company, and our job is to set prices for a portfolio of 1000 hotels. \n",
    "\n",
    "- Our strategy is to always price our properties 5% lower than other comparable hotels (our competitors) because room night is a perishable product (aka, if we don't sell it, we lose it). \n",
    "\n",
    "- **The goal** is to find out my competitors' prices for the next 180 days, and set our prices accordingly.\n",
    "\n",
    "- The chanllenge is that how do we do this automatically?"
   ]
  },
  {
   "cell_type": "markdown",
   "metadata": {},
   "source": [
    "<a id=\"imported-data\"></a>"
   ]
  },
  {
   "cell_type": "markdown",
   "metadata": {},
   "source": [
    "### Section 2. The solution: "
   ]
  },
  {
   "cell_type": "code",
   "execution_count": null,
   "metadata": {},
   "outputs": [],
   "source": [
    "## import the modules\n",
    "from selenium import webdriver\n",
    "from selenium.webdriver.common.action_chains import ActionChains\n",
    "from lxml import etree\n",
    "import pandas as pd\n",
    "import time"
   ]
  },
  {
   "cell_type": "code",
   "execution_count": null,
   "metadata": {},
   "outputs": [],
   "source": [
    "## import portfolio hotels and print the first 3 rows\n",
    "sample_hotels = pd.read_csv('data/sample_data.csv', encoding='cp1252')\n",
    "sample_hotels.head(3)"
   ]
  },
  {
   "cell_type": "markdown",
   "metadata": {},
   "source": [
    "<a id=\"chrome-browser\"></a>"
   ]
  },
  {
   "cell_type": "code",
   "execution_count": null,
   "metadata": {},
   "outputs": [],
   "source": [
    "## load a chrome browser that the Python code can control\n",
    "options = webdriver.ChromeOptions()\n",
    "## C:\\Program Files\\Google\\Chrome ...find this Chrome folder\n",
    "options.binary_location = \"./Chrome/Application/chrome.exe\"\n",
    "driver = webdriver.Chrome(executable_path=r'./chromedriver',options=options)"
   ]
  },
  {
   "cell_type": "code",
   "execution_count": null,
   "metadata": {},
   "outputs": [],
   "source": [
    "## initiate a few empty lists so that we can append scraped results\n",
    "input_hotel_names=[]\n",
    "scraped_hotel_names = []\n",
    "nightly_prices = []\n",
    "hotel_latlngs=[]\n",
    "hotel_destinations=[]"
   ]
  },
  {
   "cell_type": "code",
   "execution_count": null,
   "metadata": {},
   "outputs": [],
   "source": [
    "## use a \"for loop\" to scrape each competitor hotel\n",
    "for i in sample_hotels['Input'][:2]:\n",
    "    try:\n",
    "        url = 'https://www.booking.com/'\n",
    "        driver.get(url)\n",
    "        time.sleep(3)\n",
    "\n",
    "        input_box=driver.find_element_by_xpath('//input[@class=\"c-autocomplete__input sb-searchbox__input sb-destination__input\"]')\n",
    "        input_box.clear()\n",
    "        input_box.send_keys(i)\n",
    "        time.sleep(3)\n",
    "\n",
    "        date_box=driver.find_element_by_xpath('//div[@class=\"xp__input-group xp__date-time\"]').click()\n",
    "        check_in_date=driver.find_element_by_xpath('//td[@data-date=\"2021-10-25\"]').click()\n",
    "        time.sleep(1)\n",
    "        check_out_date=driver.find_element_by_xpath('//td[@data-date=\"2021-10-26\"]').click()        \n",
    "        time.sleep(5)\n",
    "\n",
    "        search_button=driver.find_element_by_xpath('//div[@class=\"sb-searchbox-submit-col -submit-button \"]').click()\n",
    "\n",
    "        html = etree.HTML(driver.page_source) \n",
    "        time.sleep(3)\n",
    "        \n",
    "        hotel_name = html.xpath('//a[@class=\"js-sr-hotel-link hotel_name_link url\"]/span[1]/text()')\n",
    "        nightly_price_closure = html.xpath('//div[@class=\"bui-text bui-text--variant-small_1\"]/text()')\n",
    "        hotel_latlng = html.xpath('//a[@class=\"bui-link\"]/@data-coords')\n",
    "        hotel_destination = html.xpath('//a[@class=\"bui-link\"]/text()[1]')       \n",
    "        input_hotel_names.append(i)\n",
    "        \n",
    "        if len(hotel_name)<=1:\n",
    "            scraped_hotel_names.append('blank')\n",
    "        else:\n",
    "            scraped_hotel_names.append(hotel_name[0])\n",
    "            \n",
    "        try:      \n",
    "            if len(nightly_price_closure) < 1:\n",
    "                nightly_price = html.xpath('//div[@class=\"prco-inline-block-maker-helper\"]/span[1]/text()')[0]\n",
    "                if len(nightly_price)<=1:\n",
    "                    nightly_prices.append('blank')\n",
    "                else:\n",
    "                    nightly_prices.append(nightly_price)\n",
    "            else:\n",
    "                nightly_prices.append(nightly_price_closure[0])\n",
    "        except:\n",
    "            nightly_prices.append('blank')\n",
    "    \n",
    "        \n",
    "        if len(hotel_latlng) <= 1:\n",
    "            hotel_latlngs.append('blank')\n",
    "        else:\n",
    "            hotel_latlngs.append(hotel_latlng[0])\n",
    "            \n",
    "    \n",
    "        if len(hotel_destination) <= 1:\n",
    "            hotel_destinations.append('blank')\n",
    "        else:\n",
    "            hotel_destinations.append(hotel_destination[0])\n",
    "\n",
    "        time.sleep(3)\n",
    "    \n",
    "        if len(scraped_hotel_names) % 1 == 0:\n",
    "            pd.DataFrame(\n",
    "                {'input_hotel_names': input_hotel_names,\n",
    "                 'scraped_hotel_names': scraped_hotel_names,\n",
    "                 'nightly_price': nightly_prices,\n",
    "                 'hotel_latlng' :hotel_latlngs,\n",
    "                 'hotel_destination': hotel_destinations\n",
    "                }).to_csv(\"{}_bak.csv\".format('hotel_prices'), index = False)\n",
    "\n",
    "    except:\n",
    "        None"
   ]
  },
  {
   "cell_type": "markdown",
   "metadata": {},
   "source": [
    "<a id=\"export\"></a>\n",
    "#### Save the scraped data to a CSV file"
   ]
  },
  {
   "cell_type": "code",
   "execution_count": null,
   "metadata": {},
   "outputs": [],
   "source": [
    "pd.DataFrame({'input_hotel_names': input_hotel_names,\n",
    "              'scraped_hotel_names': scraped_hotel_names,\n",
    "              'nightly_price': nightly_prices,\n",
    "              'hotel_latlng' :hotel_latlngs,\n",
    "              'hotel_destination': hotel_destinations\n",
    "             }).to_csv('hotel_prices.csv', encoding='utf8', index = False)\n",
    "hotel_prices = pd.read_csv('hotel_prices.csv')"
   ]
  },
  {
   "cell_type": "code",
   "execution_count": null,
   "metadata": {},
   "outputs": [],
   "source": [
    "hotel_prices.tail(5)"
   ]
  },
  {
   "cell_type": "markdown",
   "metadata": {},
   "source": [
    "<a id=\"qa\"></a>\n",
    "#### Quality Check: \n",
    "- Problem: Make sure the hotel we scraped is the hotel we were searching for. \n",
    "- Solution: Calculate hotel name string similarity between input vs scraped hotels"
   ]
  },
  {
   "cell_type": "code",
   "execution_count": null,
   "metadata": {},
   "outputs": [],
   "source": [
    "## import the module\n",
    "from fuzzywuzzy import fuzz"
   ]
  },
  {
   "cell_type": "code",
   "execution_count": null,
   "metadata": {},
   "outputs": [],
   "source": [
    "## calculate hotel name string similarity between input vs scraped hotels\n",
    "hotel_prices['ratio']=hotel_prices.apply(lambda x: \n",
    "                     fuzz.token_sort_ratio(x['input_hotel_names'], \n",
    "                                           x['scraped_hotel_names']), axis=1)"
   ]
  },
  {
   "cell_type": "code",
   "execution_count": null,
   "metadata": {},
   "outputs": [],
   "source": [
    "## export the score as a csv file\n",
    "pd.DataFrame(hotel_prices).to_csv('hotel_prices_QA_score.csv')"
   ]
  },
  {
   "cell_type": "code",
   "execution_count": null,
   "metadata": {},
   "outputs": [],
   "source": [
    "hotel_prices.head(3)"
   ]
  },
  {
   "cell_type": "code",
   "execution_count": null,
   "metadata": {},
   "outputs": [],
   "source": []
  },
  {
   "cell_type": "markdown",
   "metadata": {},
   "source": [
    "### Section 3: Code breakdown"
   ]
  },
  {
   "cell_type": "code",
   "execution_count": null,
   "metadata": {},
   "outputs": [],
   "source": [
    "hotel= 'Crowne Plaza Frankfurt Congress Hotel, Frankfurt'"
   ]
  },
  {
   "cell_type": "code",
   "execution_count": null,
   "metadata": {},
   "outputs": [],
   "source": [
    "hotel "
   ]
  },
  {
   "cell_type": "code",
   "execution_count": null,
   "metadata": {},
   "outputs": [],
   "source": [
    "options = webdriver.ChromeOptions()\n",
    "options.binary_location = \"./Chrome/Application/chrome.exe\"\n",
    "driver = webdriver.Chrome(executable_path=r'./chromedriver',options=options)"
   ]
  },
  {
   "cell_type": "code",
   "execution_count": null,
   "metadata": {},
   "outputs": [],
   "source": [
    "url = 'https://www.booking.com/'"
   ]
  },
  {
   "cell_type": "code",
   "execution_count": null,
   "metadata": {},
   "outputs": [],
   "source": [
    "driver.get(url)"
   ]
  },
  {
   "cell_type": "markdown",
   "metadata": {},
   "source": [
    "<a id=\"pattern\"></a>"
   ]
  },
  {
   "cell_type": "code",
   "execution_count": null,
   "metadata": {},
   "outputs": [],
   "source": [
    "## code pattern: driver.find_element_by_xpath('//html_tag_name[@class=\"\"]')\n",
    "input_box=driver.find_element_by_xpath('//input[@class=\"c-autocomplete__input sb-searchbox__input sb-destination__input\"]')"
   ]
  },
  {
   "cell_type": "code",
   "execution_count": null,
   "metadata": {},
   "outputs": [],
   "source": [
    "input_box.clear()"
   ]
  },
  {
   "cell_type": "code",
   "execution_count": null,
   "metadata": {},
   "outputs": [],
   "source": [
    "input_box.send_keys(hotel)"
   ]
  },
  {
   "cell_type": "code",
   "execution_count": null,
   "metadata": {},
   "outputs": [],
   "source": [
    "## code pattern: driver.find_element_by_xpath('//html_tag_name[@class=\"\"]')\n",
    "date_box=driver.find_element_by_xpath('//span[@class=\"sb-date-field__icon sb-date-field__icon-btn bk-svg-wrapper calendar-restructure-sb\"]').click()"
   ]
  },
  {
   "cell_type": "code",
   "execution_count": null,
   "metadata": {},
   "outputs": [],
   "source": [
    "## code pattern: driver.find_element_by_xpath('//html_tag_name[@class=\"\"]')\n",
    "check_in_date=driver.find_element_by_xpath('//td[@data-date=\"2021-10-25\"]').click()\n",
    "check_out_date=driver.find_element_by_xpath('//td[@data-date=\"2021-10-26\"]').click()   "
   ]
  },
  {
   "cell_type": "code",
   "execution_count": null,
   "metadata": {},
   "outputs": [],
   "source": [
    "## code pattern: driver.find_element_by_xpath('//html_tag_name[@class=\"\"]')\n",
    "search_button=driver.find_element_by_xpath('//button[@class=\"sb-searchbox__button \"]')\n",
    "search_button.click()"
   ]
  },
  {
   "cell_type": "markdown",
   "metadata": {},
   "source": [
    "<a id=\"page\"></a>"
   ]
  },
  {
   "cell_type": "code",
   "execution_count": null,
   "metadata": {},
   "outputs": [],
   "source": [
    "## scrape the entire page\n",
    "html = etree.HTML(driver.page_source) "
   ]
  },
  {
   "cell_type": "markdown",
   "metadata": {},
   "source": [
    "<a id=\"info\"></a>"
   ]
  },
  {
   "cell_type": "code",
   "execution_count": null,
   "metadata": {},
   "outputs": [],
   "source": [
    "## extract all hotel names in this page\n",
    "hotel_name = html.xpath('//h3/a[@class=\"js-sr-hotel-link hotel_name_link url\"]/span[1]/text()')"
   ]
  },
  {
   "cell_type": "code",
   "execution_count": null,
   "metadata": {},
   "outputs": [],
   "source": [
    "hotel_name"
   ]
  },
  {
   "cell_type": "code",
   "execution_count": null,
   "metadata": {},
   "outputs": [],
   "source": [
    "## we only need the first returned hotel\n",
    "hotel_name[0]"
   ]
  },
  {
   "cell_type": "markdown",
   "metadata": {},
   "source": [
    "### Section 4: References"
   ]
  },
  {
   "cell_type": "markdown",
   "metadata": {},
   "source": [
    "Documentation for selenium and xpath: \n",
    "- https://selenium-python.readthedocs.io/\n",
    "- https://selenium-python.readthedocs.io/locating-elements.html"
   ]
  },
  {
   "cell_type": "markdown",
   "metadata": {},
   "source": [
    "# In conclusion we ...\n",
    "- **[Imported Modules and Sample Data](#imported-data)**\n",
    "- **[Opened a Python-Controlled Chrome Browser ](#chrome-browser)**\n",
    "- **[Located to a Specific Place on the Webpage](#pattern)**\n",
    "- **[Downloaded the Entire Page](#page)**\n",
    "- **[Extract Specific Information](#info)**\n",
    "- **[Quality Checked Our Results by Comparing String Similarity](#qa)**\n",
    "- **[Saved Scraped Data Into a CSV File](#export)**"
   ]
  },
  {
   "cell_type": "code",
   "execution_count": null,
   "metadata": {},
   "outputs": [],
   "source": []
  }
 ],
 "metadata": {
  "kernelspec": {
   "display_name": "Python 3",
   "language": "python",
   "name": "python3"
  },
  "language_info": {
   "codemirror_mode": {
    "name": "ipython",
    "version": 3
   },
   "file_extension": ".py",
   "mimetype": "text/x-python",
   "name": "python",
   "nbconvert_exporter": "python",
   "pygments_lexer": "ipython3",
   "version": "3.8.5"
  }
 },
 "nbformat": 4,
 "nbformat_minor": 4
}
